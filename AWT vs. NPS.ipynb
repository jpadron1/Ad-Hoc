{
 "cells": [
  {
   "cell_type": "markdown",
   "metadata": {},
   "source": [
    "## NPS and Wait Time Pulled from 2024"
   ]
  },
  {
   "cell_type": "code",
   "execution_count": null,
   "metadata": {},
   "outputs": [
    {
     "name": "stdout",
     "output_type": "stream",
     "text": [
      "                           Date       WAIT        NPS\n",
      "hour                                                 \n",
      "2024-11-26 00:00:00  2024-11-26  84.802703  87.770270\n",
      "2024-11-26 01:00:00  2024-11-26  77.094702  87.019868\n",
      "2024-11-26 02:00:00  2024-11-26  94.356798  85.438233\n",
      "2024-11-26 03:00:00  2024-11-26  79.499346  89.856021\n",
      "2024-11-26 04:00:00  2024-11-26  85.056116  87.578815\n",
      "2024-11-26 05:00:00  2024-11-26  81.707105  86.863271\n",
      "2024-11-26 06:00:00  2024-11-26  77.283702  86.250838\n",
      "2024-11-26 07:00:00  2024-11-26  79.265190  87.594937\n",
      "2024-11-26 08:00:00  2024-11-26  90.742414  86.850978\n",
      "2024-11-26 09:00:00  2024-11-26  82.971237  88.227425\n",
      "2024-11-26 10:00:00  2024-11-26  88.349120  87.415426\n",
      "2024-11-26 11:00:00  2024-11-26  87.173543  86.574984\n",
      "2024-11-26 12:00:00  2024-11-26  83.797836  84.719405\n",
      "2024-11-26 13:00:00  2024-11-26  83.446213  84.213877\n",
      "2024-11-26 14:00:00  2024-11-26  83.689044  87.840405\n",
      "2024-11-26 15:00:00  2024-11-26  82.956815  89.001350\n",
      "2024-11-26 16:00:00  2024-11-26  84.505837  88.586252\n",
      "2024-11-26 17:00:00  2024-11-26  87.389653  86.313032\n",
      "2024-11-26 18:00:00  2024-11-26  94.493252  85.020243\n",
      "2024-11-26 19:00:00  2024-11-26  84.781898  87.869265\n",
      "2024-11-26 20:00:00  2024-11-26  90.103514  84.536741\n",
      "2024-11-26 21:00:00  2024-11-26  81.354715  86.465683\n",
      "2024-11-26 22:00:00  2024-11-26  94.201686  86.446174\n",
      "2024-11-26 23:00:00  2024-11-26  84.600527  84.970336\n"
     ]
    },
    {
     "name": "stderr",
     "output_type": "stream",
     "text": [
      "/tmp/ipykernel_7404/3028278122.py:13: FutureWarning: 'H' is deprecated and will be removed in a future version, please use 'h' instead.\n",
      "  df['hour'] = df['CREATED_AT'].dt.floor('H')\n"
     ]
    }
   ],
   "source": [
    "import pandas as pd\n",
    "\n",
    "# Load your CSV file\n",
    "df = pd.read_csv('AWT vs. NPS v3.csv')\n",
    "\n",
    "# Convert 'CREATED_AT' to datetime, handling mixed formats\n",
    "df['CREATED_AT'] = pd.to_datetime(df['CREATED_AT'], format='mixed', errors='coerce')\n",
    "\n",
    "# Drop rows with invalid dates (optional, based on your needs)\n",
    "df = df.dropna(subset=['CREATED_AT'])\n",
    "\n",
    "# Create a new column for the hour of the appointment\n",
    "df['hour'] = df['CREATED_AT'].dt.floor('H')\n",
    "\n",
    "# Extract the date for the \"Date\" column\n",
    "df['Date'] = df['hour'].dt.date\n",
    "\n",
    "# Classify NPS scores into Promoters, Passives, and Detractors\n",
    "df['promoter'] = df['NET_PROMOTER_SCORE'].apply(lambda x: 1 if 9 <= x <= 10 else 0)\n",
    "df['detractor'] = df['NET_PROMOTER_SCORE'].apply(lambda x: 1 if 0 <= x <= 6 else 0)\n",
    "\n",
    "# Group by hour and calculate required columns\n",
    "hourly_nps = df.groupby('hour').agg(\n",
    "    Date=('Date', 'first'),  # Extract the date for the period\n",
    "    WAIT=('WAIT_TIME', 'mean'),  # Average wait time\n",
    "    promoters_count=('promoter', 'sum'),\n",
    "    detractors_count=('detractor', 'sum'),\n",
    "    total_count=('NET_PROMOTER_SCORE', 'count')\n",
    ")\n",
    "\n",
    "# Calculate %Promoters and %Detractors\n",
    "hourly_nps['%promoters'] = hourly_nps['promoters_count'] / hourly_nps['total_count'] * 100\n",
    "hourly_nps['%detractors'] = hourly_nps['detractors_count'] / hourly_nps['total_count'] * 100\n",
    "\n",
    "# Calculate NPS\n",
    "hourly_nps['NPS'] = hourly_nps['%promoters'] - hourly_nps['%detractors']\n",
    "\n",
    "# Select and rename columns\n",
    "hourly_nps = hourly_nps[['Date', 'WAIT', 'NPS']]\n",
    "\n",
    "# Save the result to a new CSV file\n",
    "hourly_nps.to_csv('Hourly_NPS_with_WAIT.csv', index=False)\n",
    "\n",
    "print(hourly_nps)\n"
   ]
  }
 ],
 "metadata": {
  "kernelspec": {
   "display_name": "Python 3",
   "language": "python",
   "name": "python3"
  },
  "language_info": {
   "codemirror_mode": {
    "name": "ipython",
    "version": 3
   },
   "file_extension": ".py",
   "mimetype": "text/x-python",
   "name": "python",
   "nbconvert_exporter": "python",
   "pygments_lexer": "ipython3",
   "version": "3.12.1"
  }
 },
 "nbformat": 4,
 "nbformat_minor": 2
}
